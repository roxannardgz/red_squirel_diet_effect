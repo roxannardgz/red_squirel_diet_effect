{
 "cells": [
  {
   "cell_type": "markdown",
   "id": "02f6e521",
   "metadata": {},
   "source": [
    "# Effect of Diet on Red Squirrel Weight"
   ]
  },
  {
   "cell_type": "markdown",
   "id": "8e43a13d",
   "metadata": {},
   "source": [
    "## Introduction\n",
    "\n",
    "In this study, we examined the relationship between the weight of Red Squirrel and specific diets. The dataset used contains data on 100 red squirrels. These squirrels were assigned to one of three distinct diets right after they stopped nursing, and then their weights as grown adults were measured. The goal of the study was to understand how these different diets might affect the squirrels' adult weights. By looking at this data, we can learn more about how early diet choices might impact animals as they grow up."
   ]
  },
  {
   "cell_type": "markdown",
   "id": "30f19f94",
   "metadata": {},
   "source": [
    "## Analysis\n",
    "\n",
    "Let's start by importing the necessary libraries and reviewing the data."
   ]
  },
  {
   "cell_type": "code",
   "execution_count": 2,
   "id": "af446ebd",
   "metadata": {},
   "outputs": [],
   "source": [
    "import pandas as pd\n",
    "import seaborn as sns\n",
    "import matplotlib.pyplot as plt\n",
    "from matplotlib.lines import Line2D"
   ]
  },
  {
   "cell_type": "code",
   "execution_count": 3,
   "id": "ffe9c46f",
   "metadata": {},
   "outputs": [],
   "source": [
    "import plotly.io as pio\n",
    "pio.renderers.default = 'notebook'"
   ]
  },
  {
   "cell_type": "code",
   "execution_count": 4,
   "id": "2f087589",
   "metadata": {},
   "outputs": [],
   "source": [
    "try:\n",
    "    data = pd.read_csv('squirrel_diet.csv')\n",
    "except:\n",
    "    data=pd.read_csv('/datasets/squirrel_diet.csv')"
   ]
  },
  {
   "cell_type": "code",
   "execution_count": 5,
   "id": "61ba124b",
   "metadata": {},
   "outputs": [
    {
     "name": "stdout",
     "output_type": "stream",
     "text": [
      "<class 'pandas.core.frame.DataFrame'>\n",
      "RangeIndex: 100 entries, 0 to 99\n",
      "Data columns (total 3 columns):\n",
      " #   Column  Non-Null Count  Dtype  \n",
      "---  ------  --------------  -----  \n",
      " 0   sex     100 non-null    int64  \n",
      " 1   diet    100 non-null    int64  \n",
      " 2   weight  100 non-null    float64\n",
      "dtypes: float64(1), int64(2)\n",
      "memory usage: 2.5 KB\n"
     ]
    }
   ],
   "source": [
    "data.info()"
   ]
  },
  {
   "cell_type": "code",
   "execution_count": 6,
   "id": "6ca294ef",
   "metadata": {},
   "outputs": [
    {
     "data": {
      "text/html": [
       "<div>\n",
       "<style scoped>\n",
       "    .dataframe tbody tr th:only-of-type {\n",
       "        vertical-align: middle;\n",
       "    }\n",
       "\n",
       "    .dataframe tbody tr th {\n",
       "        vertical-align: top;\n",
       "    }\n",
       "\n",
       "    .dataframe thead th {\n",
       "        text-align: right;\n",
       "    }\n",
       "</style>\n",
       "<table border=\"1\" class=\"dataframe\">\n",
       "  <thead>\n",
       "    <tr style=\"text-align: right;\">\n",
       "      <th></th>\n",
       "      <th>sex</th>\n",
       "      <th>diet</th>\n",
       "      <th>weight</th>\n",
       "    </tr>\n",
       "  </thead>\n",
       "  <tbody>\n",
       "    <tr>\n",
       "      <th>0</th>\n",
       "      <td>0</td>\n",
       "      <td>3</td>\n",
       "      <td>1.042</td>\n",
       "    </tr>\n",
       "    <tr>\n",
       "      <th>1</th>\n",
       "      <td>1</td>\n",
       "      <td>3</td>\n",
       "      <td>1.196</td>\n",
       "    </tr>\n",
       "    <tr>\n",
       "      <th>2</th>\n",
       "      <td>1</td>\n",
       "      <td>2</td>\n",
       "      <td>1.401</td>\n",
       "    </tr>\n",
       "    <tr>\n",
       "      <th>3</th>\n",
       "      <td>1</td>\n",
       "      <td>1</td>\n",
       "      <td>1.015</td>\n",
       "    </tr>\n",
       "    <tr>\n",
       "      <th>4</th>\n",
       "      <td>0</td>\n",
       "      <td>2</td>\n",
       "      <td>1.141</td>\n",
       "    </tr>\n",
       "  </tbody>\n",
       "</table>\n",
       "</div>"
      ],
      "text/plain": [
       "   sex  diet  weight\n",
       "0    0     3   1.042\n",
       "1    1     3   1.196\n",
       "2    1     2   1.401\n",
       "3    1     1   1.015\n",
       "4    0     2   1.141"
      ]
     },
     "execution_count": 6,
     "metadata": {},
     "output_type": "execute_result"
    }
   ],
   "source": [
    "data.head()"
   ]
  },
  {
   "cell_type": "code",
   "execution_count": 7,
   "id": "70b9c8a1",
   "metadata": {
    "scrolled": true
   },
   "outputs": [
    {
     "data": {
      "text/plain": [
       "0"
      ]
     },
     "execution_count": 7,
     "metadata": {},
     "output_type": "execute_result"
    }
   ],
   "source": [
    "data.duplicated().sum()"
   ]
  },
  {
   "cell_type": "markdown",
   "id": "538f29b0",
   "metadata": {},
   "source": [
    "The table contains three columns, indicating the sex, diet and weight of each squirel. There are no duplicated or missing values in the table. For the sex column, `0 = Female` and `1 = Male`. Before visualizing the data, we'll add categorical labels to the diets."
   ]
  },
  {
   "cell_type": "code",
   "execution_count": 8,
   "id": "8de12960",
   "metadata": {},
   "outputs": [
    {
     "data": {
      "text/html": [
       "<div>\n",
       "<style scoped>\n",
       "    .dataframe tbody tr th:only-of-type {\n",
       "        vertical-align: middle;\n",
       "    }\n",
       "\n",
       "    .dataframe tbody tr th {\n",
       "        vertical-align: top;\n",
       "    }\n",
       "\n",
       "    .dataframe thead th {\n",
       "        text-align: right;\n",
       "    }\n",
       "</style>\n",
       "<table border=\"1\" class=\"dataframe\">\n",
       "  <thead>\n",
       "    <tr style=\"text-align: right;\">\n",
       "      <th></th>\n",
       "      <th>sex</th>\n",
       "      <th>diet</th>\n",
       "      <th>weight</th>\n",
       "      <th>diet_label</th>\n",
       "    </tr>\n",
       "  </thead>\n",
       "  <tbody>\n",
       "    <tr>\n",
       "      <th>0</th>\n",
       "      <td>0</td>\n",
       "      <td>3</td>\n",
       "      <td>1.042</td>\n",
       "      <td>C</td>\n",
       "    </tr>\n",
       "    <tr>\n",
       "      <th>1</th>\n",
       "      <td>1</td>\n",
       "      <td>3</td>\n",
       "      <td>1.196</td>\n",
       "      <td>C</td>\n",
       "    </tr>\n",
       "    <tr>\n",
       "      <th>2</th>\n",
       "      <td>1</td>\n",
       "      <td>2</td>\n",
       "      <td>1.401</td>\n",
       "      <td>B</td>\n",
       "    </tr>\n",
       "    <tr>\n",
       "      <th>3</th>\n",
       "      <td>1</td>\n",
       "      <td>1</td>\n",
       "      <td>1.015</td>\n",
       "      <td>A</td>\n",
       "    </tr>\n",
       "    <tr>\n",
       "      <th>4</th>\n",
       "      <td>0</td>\n",
       "      <td>2</td>\n",
       "      <td>1.141</td>\n",
       "      <td>B</td>\n",
       "    </tr>\n",
       "  </tbody>\n",
       "</table>\n",
       "</div>"
      ],
      "text/plain": [
       "   sex  diet  weight diet_label\n",
       "0    0     3   1.042          C\n",
       "1    1     3   1.196          C\n",
       "2    1     2   1.401          B\n",
       "3    1     1   1.015          A\n",
       "4    0     2   1.141          B"
      ]
     },
     "execution_count": 8,
     "metadata": {},
     "output_type": "execute_result"
    }
   ],
   "source": [
    "# Add labels for diet\n",
    "diet_label = {1: 'A', 2: 'B', 3: 'C'}\n",
    "data['diet_label'] = data['diet'].map(diet_label)\n",
    "\n",
    "data.head()"
   ]
  },
  {
   "cell_type": "markdown",
   "id": "b1dfac63",
   "metadata": {},
   "source": [
    "Now we'll proceede to plot the data in a strip plot - a scatterplot for categorical data - to visualize how the weight of the squirels is distributed for each diet. "
   ]
  },
  {
   "cell_type": "code",
   "execution_count": 9,
   "id": "3b0f56eb",
   "metadata": {},
   "outputs": [
    {
     "data": {
      "image/png": "[encoded data removed]",
      "text/plain": [
       "<Figure size 800x600 with 1 Axes>"
      ]
     },
     "metadata": {},
     "output_type": "display_data"
    }
   ],
   "source": [
    "# Create plot\n",
    "plt.figure(figsize=(8, 6))\n",
    "fig = sns.stripplot(data=data, x='diet_label', y='weight', hue='sex', order=['A', 'B', 'C'], palette={0: \"#FF00FF\", 1: \"#008001\"})\n",
    "\n",
    "# Set labels and title\n",
    "plt.xlabel('Diet Label')\n",
    "plt.ylabel('Adult Weight / lbs')\n",
    "plt.title('Red Squirel Diet Study')\n",
    "\n",
    "# Set legend\n",
    "custom_legend = [\n",
    "    Line2D([0], [0], marker='o', color='w', markerfacecolor='#FF00FF', markersize=7, label='Female'),\n",
    "    Line2D([0], [0], marker='o', color='w', markerfacecolor='#008001', markersize=7, label='Male')\n",
    "    ]\n",
    "\n",
    "plt.legend(handles=custom_legend, title='sex')\n",
    "\n",
    "# Show plot\n",
    "plt.show()"
   ]
  },
  {
   "cell_type": "markdown",
   "id": "a999b0d6",
   "metadata": {},
   "source": [
    "We can observe that the distribution of weight varies weidely based on the diet. Although there are some possible outliers in diet B, it presents the highest variation among all three diets. Squirels on diet A seem to have consistently lower weight as adults, while diet B are more spread compared to diet A. It does not seem to be any significant impact on the weight based on the sex of the squirels."
   ]
  },
  {
   "cell_type": "markdown",
   "id": "7ddacaad",
   "metadata": {},
   "source": [
    "## Conclusion\n",
    "\n",
    "There is a visually aparent trend between diet and weight, with diet A seeming to produce low-weight adult squirels. Diet C seems to have a lesser influence on weight, resulting in a mix of squirels with lighter and heavier weights. It's difficult to discern a significant difference in weight distribution between males and females within each diet group. \n",
    "\n",
    "Overall, the plot might suggest that certain diets might have a stronger influence on weight than others. It is important to note that while scatterplots show correlation, they do not show causation. Even if a diet seems to be associated with a certain weight range, it does not necessarily mean the diet caused the weight differences and that other factors might influence weight in these squirrels."
   ]
  }
 ],
 "metadata": {
  "kernelspec": {
   "display_name": "Python 3 (ipykernel)",
   "language": "python",
   "name": "python3"
  },
  "language_info": {
   "codemirror_mode": {
    "name": "ipython",
    "version": 3
   },
   "file_extension": ".py",
   "mimetype": "text/x-python",
   "name": "python",
   "nbconvert_exporter": "python",
   "pygments_lexer": "ipython3",
   "version": "3.10.11"
  }
 },
 "nbformat": 4,
 "nbformat_minor": 5
}
